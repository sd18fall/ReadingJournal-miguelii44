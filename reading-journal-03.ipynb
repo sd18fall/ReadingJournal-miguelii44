{
 "cells": [
  {
   "cell_type": "markdown",
   "metadata": {},
   "source": [
    "# Day 3 Reading Journal\n",
    "\n",
    "This journal includes several required exercises, but it is meant to encourage active reading more generally.  You may use the journal to take detailed notes, catalog questions, and explore the content from Think Python deeply.\n",
    "\n",
    "Reading: Think Python Chapter 8, 10.1-10.6"
   ]
  },
  {
   "cell_type": "markdown",
   "metadata": {},
   "source": [
    "## [Chapter 8](http://www.greenteapress.com/thinkpython2/html/thinkpython2009.html)\n",
    "\n",
    "Note: the exercise numbers below match up with the reading for ease of cross referencing."
   ]
  },
  {
   "cell_type": "markdown",
   "metadata": {},
   "source": [
    "### Chapter 8.3  \n",
    "\n",
    "Write a function that takes a string as an argument and displays the letters backward, one per line."
   ]
  },
  {
   "cell_type": "code",
<<<<<<< HEAD
   "execution_count": 45,
   "metadata": {},
   "outputs": [
    {
     "name": "stdout",
     "output_type": "stream",
     "text": [
      "s\n",
      "e\n",
      "d\n",
      "t\n",
      "f\n",
      "o\n",
      "s\n"
     ]
    }
   ],
   "source": [
    "word = ''\n",
    "listerino = 'softdes'\n",
    "index = len(listerino)\n",
    "while index > 0:\n",
    "    letter = listerino[index-1]\n",
    "    word = letter + word\n",
    "    index = index -1\n",
    "    \n",
    "    print(letter)"
   ]
=======
   "execution_count": null,
   "metadata": {
    "collapsed": true
   },
   "outputs": [],
   "source": []
>>>>>>> 07343e6408e8bfb42e179bb53a21c4d18191d578
  },
  {
   "cell_type": "markdown",
   "metadata": {},
   "source": [
    "### Chapter 8.4\n",
    "\n",
    "Write a function that translates words into [Pig Latin](https://en.wikipedia.org/wiki/Pig_Latin). You need not handle special cases like vowels."
   ]
  },
  {
   "cell_type": "code",
<<<<<<< HEAD
   "execution_count": 50,
   "metadata": {},
   "outputs": [
    {
     "name": "stdout",
     "output_type": "stream",
     "text": [
      "oftwaresay\n"
     ]
    }
   ],
=======
   "execution_count": null,
   "metadata": {
    "collapsed": true
   },
   "outputs": [],
>>>>>>> 07343e6408e8bfb42e179bb53a21c4d18191d578
   "source": [
    "def pig_latin(word):\n",
    "    \"\"\"\n",
    "    Return given 'word' translated into Pig Latin\n",
    "    \n",
    "    >>> pig_latin(\"software\")\n",
    "    'oftwaresay'\n",
    "    \"\"\"\n",
<<<<<<< HEAD
    "    firstletter = word[0]\n",
    "    rest = word[1::]\n",
    "    print(rest + firstletter +'ay')\n",
    "pig_latin(\"software\")\n",
=======
    "    pass #TODO: Implement me\n",
>>>>>>> 07343e6408e8bfb42e179bb53a21c4d18191d578
    "\n",
    "# Running doctests in Jupyter notebook:\n",
    "# If you'd like to actually run the doctests here, you can uncomment the lines below.\n",
    "# We use this slightly more complex method to test only the pig_latin function, without running tests on any other functions that may be in this notebook.\n",
    "# If all tests pass, you will see no output (you can change that by setting verbose to True) \n",
    "\n",
<<<<<<< HEAD
    "\n",
    "\n",
    "#import doctest\n",
    "#doctest.run_docstring_examples(pig_latin, globals(), verbose=True)\n",
    "\n"
=======
    "#import doctest\n",
    "#doctest.run_docstring_examples(pig_latin, globals(), verbose=False)"
>>>>>>> 07343e6408e8bfb42e179bb53a21c4d18191d578
   ]
  },
  {
   "cell_type": "markdown",
   "metadata": {},
   "source": [
    "### Chapter 8.7\n",
    "Encapsulate the character counting code in a fruitful function named `count` that accepts the string and the letter as arguments and returns the count."
   ]
  },
  {
   "cell_type": "code",
<<<<<<< HEAD
   "execution_count": 52,
   "metadata": {},
   "outputs": [
    {
     "name": "stdout",
     "output_type": "stream",
     "text": [
      "2\n"
     ]
    }
   ],
   "source": [
    "def count(word):\n",
    "    count = 0\n",
    "    for letter in word:\n",
    "        if letter == 'a':\n",
    "            count = count + 1\n",
    "    print(count)\n",
    "    \n",
    "count('basketball')\n",
    "    "
   ]
=======
   "execution_count": null,
   "metadata": {
    "collapsed": true
   },
   "outputs": [],
   "source": []
>>>>>>> 07343e6408e8bfb42e179bb53a21c4d18191d578
  },
  {
   "cell_type": "markdown",
   "metadata": {},
   "source": [
    "### Exercise 8.1\n",
    "Skim the documentation of the Python [string methods](http://docs.python.org/3/library/stdtypes.html#string-methods). Play with them to make sure you understand how they work-- strip, replace, and upper/lower are particularly useful. Show us some of your experiments."
   ]
  },
  {
   "cell_type": "code",
<<<<<<< HEAD
   "execution_count": 61,
   "metadata": {},
   "outputs": [
    {
     "name": "stdout",
     "output_type": "stream",
     "text": [
      "True\n"
     ]
    }
   ],
   "source": [
    "str.isdigit(\"68\")\n",
    "\n",
    "str.isdecimal(\"444.0\")\n",
    "\n",
    "str.islower(\"lOwer\")\n",
    "\n",
    "suffix = \"el\"\n",
    "str = \"Miguel\"\n",
    "\n",
    "print(str.endswith(suffix))"
   ]
=======
   "execution_count": null,
   "metadata": {
    "collapsed": true
   },
   "outputs": [],
   "source": []
>>>>>>> 07343e6408e8bfb42e179bb53a21c4d18191d578
  },
  {
   "cell_type": "markdown",
   "metadata": {},
   "source": [
    "### Exercise 8.4  \n",
    "\n",
    "The following functions are all intended to check whether a string contains any lowercase letters, but at least some of them are wrong. For each function, describe what the function actually does (assuming that the parameter ```s``` is a string)."
   ]
  },
  {
   "cell_type": "code",
<<<<<<< HEAD
   "execution_count": 82,
   "metadata": {},
   "outputs": [
    {
     "data": {
      "text/plain": [
       "False"
      ]
     },
     "execution_count": 82,
     "metadata": {},
     "output_type": "execute_result"
    }
   ],
=======
   "execution_count": null,
   "metadata": {
    "collapsed": true
   },
   "outputs": [],
>>>>>>> 07343e6408e8bfb42e179bb53a21c4d18191d578
   "source": [
    "def any_lowercase1(s):\n",
    "    for c in s:\n",
    "        if c.islower():\n",
    "            return True\n",
    "        else:\n",
    "            return False"
   ]
  },
  {
   "cell_type": "markdown",
   "metadata": {},
<<<<<<< HEAD
   "source": [
    "Checks for lowercase \"c\" 's in the code, but only the first letter"
   ]
=======
   "source": []
>>>>>>> 07343e6408e8bfb42e179bb53a21c4d18191d578
  },
  {
   "cell_type": "markdown",
   "metadata": {},
   "source": [
    " "
   ]
  },
  {
   "cell_type": "code",
<<<<<<< HEAD
   "execution_count": 71,
   "metadata": {},
   "outputs": [
    {
     "data": {
      "text/plain": [
       "'True'"
      ]
     },
     "execution_count": 71,
     "metadata": {},
     "output_type": "execute_result"
    }
   ],
=======
   "execution_count": null,
   "metadata": {
    "collapsed": true
   },
   "outputs": [],
>>>>>>> 07343e6408e8bfb42e179bb53a21c4d18191d578
   "source": [
    "def any_lowercase2(s):\n",
    "    for c in s:\n",
    "        if 'c'.islower():\n",
    "            return 'True'\n",
    "        else:\n",
    "            return 'False'"
   ]
  },
  {
   "cell_type": "markdown",
   "metadata": {},
<<<<<<< HEAD
   "source": [
    "Checks for lowercase \"c\", Always returns True"
   ]
=======
   "source": []
>>>>>>> 07343e6408e8bfb42e179bb53a21c4d18191d578
  },
  {
   "cell_type": "markdown",
   "metadata": {},
   "source": [
    " "
   ]
  },
  {
   "cell_type": "code",
<<<<<<< HEAD
   "execution_count": 76,
   "metadata": {},
   "outputs": [
    {
     "data": {
      "text/plain": [
       "True"
      ]
     },
     "execution_count": 76,
     "metadata": {},
     "output_type": "execute_result"
    }
   ],
=======
   "execution_count": null,
   "metadata": {
    "collapsed": true
   },
   "outputs": [],
>>>>>>> 07343e6408e8bfb42e179bb53a21c4d18191d578
   "source": [
    "def any_lowercase3(s):\n",
    "    for c in s:\n",
    "        flag = c.islower()\n",
    "    return flag"
   ]
  },
  {
   "cell_type": "markdown",
   "metadata": {},
<<<<<<< HEAD
   "source": [
    "Always returns true"
   ]
=======
   "source": []
>>>>>>> 07343e6408e8bfb42e179bb53a21c4d18191d578
  },
  {
   "cell_type": "markdown",
   "metadata": {},
   "source": [
    " "
   ]
  },
  {
   "cell_type": "code",
<<<<<<< HEAD
   "execution_count": 79,
   "metadata": {},
   "outputs": [
    {
     "data": {
      "text/plain": [
       "True"
      ]
     },
     "execution_count": 79,
     "metadata": {},
     "output_type": "execute_result"
    }
   ],
=======
   "execution_count": null,
   "metadata": {
    "collapsed": true
   },
   "outputs": [],
>>>>>>> 07343e6408e8bfb42e179bb53a21c4d18191d578
   "source": [
    "def any_lowercase4(s):\n",
    "    flag = False\n",
    "    for c in s:\n",
    "        flag = flag or c.islower()\n",
    "    return flag"
   ]
  },
  {
   "cell_type": "markdown",
   "metadata": {},
<<<<<<< HEAD
   "source": [
    "Checks for any lowercased letters"
   ]
=======
   "source": []
>>>>>>> 07343e6408e8bfb42e179bb53a21c4d18191d578
  },
  {
   "cell_type": "markdown",
   "metadata": {},
   "source": [
    " "
   ]
  },
  {
   "cell_type": "code",
   "execution_count": null,
   "metadata": {
    "collapsed": true
   },
   "outputs": [],
   "source": [
    "def any_lowercase5(s):\n",
    "    for c in s:\n",
    "        if not c.islower():\n",
    "            return False\n",
    "    return True"
   ]
  },
  {
   "cell_type": "markdown",
   "metadata": {},
<<<<<<< HEAD
   "source": [
    "Checks every letter and returns if all the letters are lowercase or not"
   ]
=======
   "source": []
>>>>>>> 07343e6408e8bfb42e179bb53a21c4d18191d578
  },
  {
   "cell_type": "markdown",
   "metadata": {},
   "source": [
    " "
   ]
  },
  {
   "cell_type": "markdown",
   "metadata": {},
   "source": [
    "## [Chapter 10.1 - 10.6](http://www.greenteapress.com/thinkpython2/html/thinkpython2011.html)\n",
    "\n",
    "You may want to review [state diagrams in Chapter 2](http://www.greenteapress.com/thinkpython2/html/thinkpython2003.html#toc13).\n",
    "\n"
   ]
  },
  {
   "cell_type": "markdown",
   "metadata": {},
   "source": [
    "**Quick check:** What type of items can be placed in a list?"
   ]
  },
  {
   "cell_type": "markdown",
   "metadata": {},
<<<<<<< HEAD
   "source": [
    "Any type"
   ]
=======
   "source": []
>>>>>>> 07343e6408e8bfb42e179bb53a21c4d18191d578
  },
  {
   "cell_type": "markdown",
   "metadata": {},
   "source": [
    "**Quick check:** Give at least one similarity and one difference between lists and strings."
   ]
  },
  {
   "cell_type": "markdown",
   "metadata": {},
<<<<<<< HEAD
   "source": [
    "Both character locations start at 0\n",
    "Lists are mutable and strings aren't"
   ]
=======
   "source": []
>>>>>>> 07343e6408e8bfb42e179bb53a21c4d18191d578
  },
  {
   "cell_type": "markdown",
   "metadata": {},
   "source": [
    "### Exercise 10.4  \n",
    "Write a function called `middle` that takes a list and returns a new list that contains all but the first and last elements. So `middle([1,2,3,4])` should return `[2,3]`."
   ]
  },
  {
   "cell_type": "code",
<<<<<<< HEAD
   "execution_count": 86,
   "metadata": {
    "scrolled": true
   },
   "outputs": [
    {
     "name": "stdout",
     "output_type": "stream",
     "text": [
      "Finding tests in NoName\n",
      "Trying:\n",
      "    middle([1, 2, 3, 4])\n",
      "Expecting:\n",
      "    [2, 3]\n",
      "ok\n"
     ]
    }
   ],
=======
   "execution_count": null,
   "metadata": {
    "collapsed": true
   },
   "outputs": [],
>>>>>>> 07343e6408e8bfb42e179bb53a21c4d18191d578
   "source": [
    "def middle(t):\n",
    "    \"\"\"Return all but the first and last elements of list t.\n",
    "    \n",
    "    >>> middle([1, 2, 3, 4])\n",
    "    [2, 3]\n",
    "    \"\"\"\n",
<<<<<<< HEAD
    "    last = len(t)\n",
    "    return t[1:last-1]\n",
    "\n",
    "\n",
    "\n",
    "\n",
    "import doctest\n",
    "doctest.run_docstring_examples(middle, globals(), verbose =True)"
=======
    "    pass #TODO: Implement me\n",
    "\n",
    "\n",
    "#import doctest\n",
    "#doctest.run_docstring_examples(middle, globals())"
>>>>>>> 07343e6408e8bfb42e179bb53a21c4d18191d578
   ]
  },
  {
   "cell_type": "markdown",
   "metadata": {},
   "source": [
    "### Exercise\n",
    "\n",
    "Write a Python function named `average` that takes a list of numbers and returns their arithmetic mean. Include at least one unit test."
   ]
  },
  {
   "cell_type": "code",
<<<<<<< HEAD
   "execution_count": 94,
   "metadata": {},
   "outputs": [
    {
     "name": "stdout",
     "output_type": "stream",
     "text": [
      "Finding tests in NoName\n",
      "Trying:\n",
      "    average([10, 4, 17, 20])\n",
      "Expecting:\n",
      "    12.75\n",
      "ok\n"
     ]
    }
   ],
   "source": [
    "getmean = [10, 4, 17, 20]\n",
    "def average(numbers):\n",
    "    \"\"\"Return average of getmean.\n",
    "    \n",
    "    >>> average([10, 4, 17, 20])\n",
    "    12.75\n",
    "    \"\"\"\n",
    "    return sum(numbers)/len(numbers)\n",
    "\n",
    "\n",
    "import doctest\n",
    "doctest.run_docstring_examples(average, globals(), verbose = True)"
   ]
=======
   "execution_count": null,
   "metadata": {
    "collapsed": true
   },
   "outputs": [],
   "source": []
>>>>>>> 07343e6408e8bfb42e179bb53a21c4d18191d578
  },
  {
   "cell_type": "markdown",
   "metadata": {},
   "source": [
    "# Supplementary Reading\n",
    "Read [Holding a Program in One's Head](http://paulgraham.com/head.html). _Note: This 2007 piece has useful insights about programming but refers to the programmer throughout as “he” - please mentally replace with “they” or your favorite gender-nonspecific pronoun._\n",
    "\n",
    "From the list of bullet points:\n",
    "\n",
    "1\\. Is there one that you already apply to any activities in your life? Name the bullet point, and describe the area where you apply it."
   ]
  },
  {
<<<<<<< HEAD
   "cell_type": "raw",
   "metadata": {},
   "source": [
    "Start small: its important with any big task to breka it down into smaller, more managable parts so there is a more clear and linear direction toward the endgoal"
   ]
=======
   "cell_type": "markdown",
   "metadata": {},
   "source": []
>>>>>>> 07343e6408e8bfb42e179bb53a21c4d18191d578
  },
  {
   "cell_type": "markdown",
   "metadata": {},
   "source": [
    "2\\. Is there a point that you haven't applied but would like to?"
   ]
  },
  {
   "cell_type": "markdown",
   "metadata": {},
<<<<<<< HEAD
   "source": [
    "Working in long stretches"
   ]
=======
   "source": []
>>>>>>> 07343e6408e8bfb42e179bb53a21c4d18191d578
  },
  {
   "cell_type": "markdown",
   "metadata": {},
   "source": [
    "3\\. Is there a point that you don't believe in, don't believe can apply in this course, or doesn't make sense to you? If so, name the bullet point and briefly describe why."
   ]
  },
  {
   "cell_type": "markdown",
   "metadata": {},
<<<<<<< HEAD
   "source": [
    "All points are useful and can be applicable to class"
   ]
=======
   "source": []
>>>>>>> 07343e6408e8bfb42e179bb53a21c4d18191d578
  },
  {
   "cell_type": "markdown",
   "metadata": {},
   "source": [
    "## Quick poll\n",
    "About how long did you spend working on this reading journal?"
   ]
  },
  {
   "cell_type": "markdown",
   "metadata": {},
<<<<<<< HEAD
   "source": [
    "1 hours 30 minutes"
   ]
=======
   "source": []
>>>>>>> 07343e6408e8bfb42e179bb53a21c4d18191d578
  },
  {
   "cell_type": "markdown",
   "metadata": {},
   "source": [
    "## Reading Journal feedback\n",
    "\n",
    "Have any comments on this Reading Journal? Feel free to leave them below and we'll read them when you submit your journal entry. This could include suggestions to improve the exercises, topics you'd like to see covered in class next time, or other feedback.\n",
    "\n",
    "If you have Python questions or run into problems while completing the reading, you should post them to Slack instead so you can get a quick response before your journal is submitted."
   ]
  },
  {
   "cell_type": "markdown",
   "metadata": {},
   "source": []
  },
  {
   "cell_type": "markdown",
   "metadata": {},
   "source": [
    " "
   ]
  }
 ],
 "metadata": {
  "anaconda-cloud": {},
  "kernelspec": {
   "display_name": "Python 3",
   "language": "python",
   "name": "python3"
  },
  "language_info": {
   "codemirror_mode": {
    "name": "ipython",
    "version": 3
   },
   "file_extension": ".py",
   "mimetype": "text/x-python",
   "name": "python",
   "nbconvert_exporter": "python",
   "pygments_lexer": "ipython3",
<<<<<<< HEAD
   "version": "3.6.5"
=======
   "version": "3.6.3"
>>>>>>> 07343e6408e8bfb42e179bb53a21c4d18191d578
  }
 },
 "nbformat": 4,
 "nbformat_minor": 1
}
